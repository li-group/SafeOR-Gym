{
 "cells": [
  {
   "cell_type": "markdown",
   "metadata": {},
   "source": [
    "### PSE GYM- ASU "
   ]
  },
  {
   "cell_type": "code",
   "execution_count": 1,
   "metadata": {},
   "outputs": [],
   "source": [
    "# from product_management import Product_Management, doslfp_optimizier\n",
    "# main.py\n",
    "import matplotlib.pyplot as plt\n",
    "import pandas as pd\n",
    "import numpy as np\n",
    "from xgboost import XGBRegressor\n",
    "from statsmodels.tsa.seasonal import seasonal_decompose\n",
    "from sklearn.model_selection import train_test_split\n",
    "from sklearn.metrics import mean_squared_error\n",
    "from sklearn.metrics import r2_score\n",
    "from scipy.spatial import ConvexHull\n",
    "import random\n",
    "from pyomo.environ import ConcreteModel, Set, Param, Block\n",
    "import pyomo.environ as pyo\n",
    "import pyomo.opt as opt\n",
    "solver = pyo.SolverFactory('gurobi')\n",
    "import math\n",
    "from math import ceil\n",
    "import csv\n",
    "import json\n",
    "import time\n",
    "from math import sqrt\n",
    "import copy\n",
    "import ast"
   ]
  },
  {
   "cell_type": "markdown",
   "metadata": {},
   "source": [
    "### ASU Simulation"
   ]
  },
  {
   "cell_type": "code",
   "execution_count": null,
   "metadata": {},
   "outputs": [
    {
     "name": "stdout",
     "output_type": "stream",
     "text": [
      "Simulation complete for total of 7 days\n"
     ]
    }
   ],
   "source": [
    "from ASU_opt_model import optimize_ASU\n",
    "from ASU_env import ASUEnv\n",
    "days_to_simulate = 3\n",
    "\n",
    "start_day = 1\n",
    "lookahead = 4\n",
    "env_id = 'ASU1'\n",
    "# env = ASUEnv('ASU1', lookahead, days_to_simulate)\n",
    "env = ASUEnv('ASU1')\n",
    "asu_optimizer = optimize_ASU('ASU1', lookahead)\n",
    "\n",
    "env.reset()\n",
    "current_day = 1\n",
    "optimization_day1_cost = {}\n",
    "opt_lambda = {}\n",
    "opt_reward = {}\n",
    "\n",
    "terminated = False\n",
    "while not terminated:\n",
    "\n",
    "    # state = env.render()\n",
    "    state = env._get_state(mode='dict')\n",
    "    asu_optimizer.update_state(state)\n",
    "    \n",
    "    # Solve the optimization model\n",
    "    objective = asu_optimizer.solve()\n",
    "    day1_cost = asu_optimizer.day1_cost()\n",
    "    optimization_day1_cost[current_day] = day1_cost  \n",
    "    \n",
    "    opt_day_lambda = asu_optimizer.extract_optimal_lambda()\n",
    "    # fetch optimal hourly lambda values for the current day\n",
    "    opt_lambda[current_day] = opt_day_lambda\n",
    "    # based on opt_day_lambda, calculate the reward: opt_reward[current_day]\n",
    "    \n",
    "    day_reward = 0.0\n",
    "    for hour in range(1, 25):\n",
    "        # Retrieve the lambda values for this hour (assume keys in subdict are sorted correctly, e.g., 1, 2, ...).\n",
    "        hourly_lambda = opt_day_lambda[hour]\n",
    "        # Convert the lambda dict to a NumPy array. # For instance, if your extreme points indices are [1,2,...,n], sort the keys and build the array.\n",
    "        lambda_array = np.array([hourly_lambda[k] for k in sorted(hourly_lambda.keys())], dtype=np.float32)\n",
    "        # opt_action = {'lambda': lambda_array}\n",
    "        opt_action = lambda_array\n",
    "        \n",
    "        # Take a step in the environment using this optimal action.\n",
    "        # state, reward, done, info = env.step(opt_action)\n",
    "        _, reward, terminated, _ , _ = env.step(opt_action)\n",
    "        terminated = terminated.item()\n",
    "        day_reward += reward.item()\n",
    "\n",
    "    opt_reward[current_day] = day_reward\n",
    "\n",
    "    # Approaching end of current day\n",
    "    if terminated == True:\n",
    "        print(\"Simulation complete for total of {} days\".format(current_day))\n",
    "    current_day += 1"
   ]
  },
  {
   "cell_type": "code",
   "execution_count": 3,
   "metadata": {},
   "outputs": [
    {
     "name": "stdout",
     "output_type": "stream",
     "text": [
      "{1: 1044.5566829738332, 2: 861.3592639213889, 3: 805.6513215031631, 4: 1007.3574626449497, 5: 887.7661076585582, 6: 927.1291526642696, 7: 1063.684094797056}\n",
      "{1: tensor(-1044.5566), 2: tensor(-861.3593), 3: tensor(-805.6513), 4: tensor(-1007.3574), 5: tensor(-887.7661), 6: tensor(-927.2236), 7: tensor(-1063.6841)}\n"
     ]
    }
   ],
   "source": [
    "print(optimization_day1_cost)\n",
    "print(opt_reward)"
   ]
  },
  {
   "cell_type": "code",
   "execution_count": 4,
   "metadata": {},
   "outputs": [
    {
     "data": {
      "text/plain": [
       "{'electricity_prices': array([0.11611212, 0.11472997, 0.11304277, 0.11281865, 0.1137194 ,\n",
       "        0.11568954, 0.11940014, 0.11715174, 0.11393   , 0.11809806,\n",
       "        0.11997571, 0.12877017, 0.1448933 , 0.15464   , 0.1508881 ,\n",
       "        0.15561247, 0.15824   , 0.153014  , 0.14484   , 0.14967705,\n",
       "        0.13849321, 0.12562515, 0.12105219, 0.11920443, 0.1157513 ,\n",
       "        0.11465624, 0.11432514, 0.1132992 , 0.112     , 0.11353   ,\n",
       "        0.11827928, 0.11662449, 0.11612549, 0.11834417, 0.12291305,\n",
       "        0.13000876, 0.13380855, 0.14596574, 0.14826503, 0.16292158,\n",
       "        0.17346975, 0.15394147, 0.14713089, 0.18594   , 0.184194  ,\n",
       "        0.13900852, 0.12788   , 0.1239281 , 0.11509209, 0.11486375,\n",
       "        0.11290072, 0.11006188, 0.11440136, 0.11074453, 0.11505302,\n",
       "        0.11131887, 0.10905628, 0.11388979, 0.11524954, 0.1168518 ,\n",
       "        0.12181839, 0.1287396 , 0.13143963, 0.13365646, 0.14148454,\n",
       "        0.13885   , 0.14197975, 0.15070295, 0.14076486, 0.13115154,\n",
       "        0.12039614, 0.11653   , 0.01358748, 0.01442091, 0.01423295,\n",
       "        0.01428591, 0.01357222, 0.0130255 , 0.01693505, 0.01450667,\n",
       "        0.01565922, 0.01637067, 0.01969198, 0.02696786, 0.04439216,\n",
       "        0.05567247, 0.04844063, 0.05464577, 0.05989734, 0.05324014,\n",
       "        0.04492199, 0.04852463, 0.0400316 , 0.02868901, 0.01625873,\n",
       "        0.01691382, 0.01328743, 0.01297964, 0.01551927, 0.01103605,\n",
       "        0.01309536, 0.01518525, 0.01924478, 0.0172824 , 0.01679435,\n",
       "        0.01729009, 0.02231692, 0.02803   , 0.03485432, 0.0457633 ,\n",
       "        0.04924147, 0.06146441, 0.07238767, 0.05264213, 0.04656   ,\n",
       "        0.08470219, 0.08458849, 0.03445791, 0.02772821, 0.02312891],\n",
       "       dtype=float32),\n",
       " 'demand': array([[    0.     ,     0.     ,     0.     ,     0.     ,     0.     ,\n",
       "             0.     ,     0.     ,     0.     ,     0.     ,     0.     ,\n",
       "             0.     ,     0.     ,     0.     ,     0.     ,     0.     ,\n",
       "             0.     ,     0.     ,     0.     ,     0.     ,     0.     ,\n",
       "             0.     ,     0.     ,     0.     , 19064.758  ,     0.     ,\n",
       "             0.     ,     0.     ,     0.     ,     0.     ,     0.     ,\n",
       "             0.     ,     0.     ,     0.     ,     0.     ,     0.     ,\n",
       "             0.     ,     0.     ,     0.     ,     0.     ,     0.     ,\n",
       "             0.     ,     0.     ,     0.     ,     0.     ,     0.     ,\n",
       "             0.     ,     0.     , 23326.83   ,     0.     ,     0.     ,\n",
       "             0.     ,     0.     ,     0.     ,     0.     ,     0.     ,\n",
       "             0.     ,     0.     ,     0.     ,     0.     ,     0.     ,\n",
       "             0.     ,     0.     ,     0.     ,     0.     ,     0.     ,\n",
       "             0.     ,     0.     ,     0.     ,     0.     ,     0.     ,\n",
       "             0.     , 21346.453  ,     0.     ,     0.     ,     0.     ,\n",
       "             0.     ,     0.     ,     0.     ,     0.     ,     0.     ,\n",
       "             0.     ,     0.     ,     0.     ,     0.     ,     0.     ,\n",
       "             0.     ,     0.     ,     0.     ,     0.     ,     0.     ,\n",
       "             0.     ,     0.     ,     0.     ,     0.     ,     0.     ,\n",
       "         19926.258  ,     0.     ,     0.     ,     0.     ,     0.     ,\n",
       "             0.     ,     0.     ,     0.     ,     0.     ,     0.     ,\n",
       "             0.     ,     0.     ,     0.     ,     0.     ,     0.     ,\n",
       "             0.     ,     0.     ,     0.     ,     0.     ,     0.     ,\n",
       "             0.     ,     0.     ,     0.     ,     0.     , 18006.709  ],\n",
       "        [    0.     ,     0.     ,     0.     ,     0.     ,     0.     ,\n",
       "             0.     ,     0.     ,     0.     ,     0.     ,     0.     ,\n",
       "             0.     ,     0.     ,     0.     ,     0.     ,     0.     ,\n",
       "             0.     ,     0.     ,     0.     ,     0.     ,     0.     ,\n",
       "             0.     ,     0.     ,     0.     ,  4902.132  ,     0.     ,\n",
       "             0.     ,     0.     ,     0.     ,     0.     ,     0.     ,\n",
       "             0.     ,     0.     ,     0.     ,     0.     ,     0.     ,\n",
       "             0.     ,     0.     ,     0.     ,     0.     ,     0.     ,\n",
       "             0.     ,     0.     ,     0.     ,     0.     ,     0.     ,\n",
       "             0.     ,     0.     ,  5989.0005 ,     0.     ,     0.     ,\n",
       "             0.     ,     0.     ,     0.     ,     0.     ,     0.     ,\n",
       "             0.     ,     0.     ,     0.     ,     0.     ,     0.     ,\n",
       "             0.     ,     0.     ,     0.     ,     0.     ,     0.     ,\n",
       "             0.     ,     0.     ,     0.     ,     0.     ,     0.     ,\n",
       "             0.     ,  5471.7993 ,     0.     ,     0.     ,     0.     ,\n",
       "             0.     ,     0.     ,     0.     ,     0.     ,     0.     ,\n",
       "             0.     ,     0.     ,     0.     ,     0.     ,     0.     ,\n",
       "             0.     ,     0.     ,     0.     ,     0.     ,     0.     ,\n",
       "             0.     ,     0.     ,     0.     ,     0.     ,     0.     ,\n",
       "          5122.761  ,     0.     ,     0.     ,     0.     ,     0.     ,\n",
       "             0.     ,     0.     ,     0.     ,     0.     ,     0.     ,\n",
       "             0.     ,     0.     ,     0.     ,     0.     ,     0.     ,\n",
       "             0.     ,     0.     ,     0.     ,     0.     ,     0.     ,\n",
       "             0.     ,     0.     ,     0.     ,     0.     ,  4646.213  ],\n",
       "        [    0.     ,     0.     ,     0.     ,     0.     ,     0.     ,\n",
       "             0.     ,     0.     ,     0.     ,     0.     ,     0.     ,\n",
       "             0.     ,     0.     ,     0.     ,     0.     ,     0.     ,\n",
       "             0.     ,     0.     ,     0.     ,     0.     ,     0.     ,\n",
       "             0.     ,     0.     ,     0.     ,   341.15564,     0.     ,\n",
       "             0.     ,     0.     ,     0.     ,     0.     ,     0.     ,\n",
       "             0.     ,     0.     ,     0.     ,     0.     ,     0.     ,\n",
       "             0.     ,     0.     ,     0.     ,     0.     ,     0.     ,\n",
       "             0.     ,     0.     ,     0.     ,     0.     ,     0.     ,\n",
       "             0.     ,     0.     ,   417.2276 ,     0.     ,     0.     ,\n",
       "             0.     ,     0.     ,     0.     ,     0.     ,     0.     ,\n",
       "             0.     ,     0.     ,     0.     ,     0.     ,     0.     ,\n",
       "             0.     ,     0.     ,     0.     ,     0.     ,     0.     ,\n",
       "             0.     ,     0.     ,     0.     ,     0.     ,     0.     ,\n",
       "             0.     ,   381.42188,     0.     ,     0.     ,     0.     ,\n",
       "             0.     ,     0.     ,     0.     ,     0.     ,     0.     ,\n",
       "             0.     ,     0.     ,     0.     ,     0.     ,     0.     ,\n",
       "             0.     ,     0.     ,     0.     ,     0.     ,     0.     ,\n",
       "             0.     ,     0.     ,     0.     ,     0.     ,     0.     ,\n",
       "           356.50003,     0.     ,     0.     ,     0.     ,     0.     ,\n",
       "             0.     ,     0.     ,     0.     ,     0.     ,     0.     ,\n",
       "             0.     ,     0.     ,     0.     ,     0.     ,     0.     ,\n",
       "             0.     ,     0.     ,     0.     ,     0.     ,     0.     ,\n",
       "             0.     ,     0.     ,     0.     ,     0.     ,   323.2137 ]],\n",
       "       dtype=float32),\n",
       " 'IV': array([1564.8138 ,  414.94907,   66.95013], dtype=float32)}"
      ]
     },
     "execution_count": 4,
     "metadata": {},
     "output_type": "execute_result"
    }
   ],
   "source": [
    "state"
   ]
  },
  {
   "cell_type": "code",
   "execution_count": 5,
   "metadata": {},
   "outputs": [],
   "source": [
    "def encode_observation(state):\n",
    "        \"\"\"\n",
    "        Encode the observation into a flattened format.\n",
    "        This method converts the state dictionary into a single array.\n",
    "        \"\"\"\n",
    "        # Flatten the state dictionary into a single array\n",
    "        flatt_state = np.concatenate([\n",
    "            state['electricity_prices'],\n",
    "            state['demand'].flatten(),\n",
    "            state['IV']\n",
    "        ])\n",
    "        return flatt_state"
   ]
  },
  {
   "cell_type": "code",
   "execution_count": null,
   "metadata": {},
   "outputs": [
    {
     "name": "stdout",
     "output_type": "stream",
     "text": [
      "(483,)\n"
     ]
    }
   ],
   "source": [
    "flatt_state = encode_observation(state)\n",
    "print(flatt_state.shape)"
   ]
  },
  {
   "cell_type": "code",
   "execution_count": 7,
   "metadata": {},
   "outputs": [
    {
     "data": {
      "text/plain": [
       "483"
      ]
     },
     "execution_count": 7,
     "metadata": {},
     "output_type": "execute_result"
    }
   ],
   "source": [
    "24*5 + 24*3*5 + 3\n"
   ]
  },
  {
   "cell_type": "code",
   "execution_count": null,
   "metadata": {},
   "outputs": [],
   "source": []
  }
 ],
 "metadata": {
  "kernelspec": {
   "display_name": "base",
   "language": "python",
   "name": "python3"
  },
  "language_info": {
   "codemirror_mode": {
    "name": "ipython",
    "version": 3
   },
   "file_extension": ".py",
   "mimetype": "text/x-python",
   "name": "python",
   "nbconvert_exporter": "python",
   "pygments_lexer": "ipython3",
   "version": "3.11.7"
  }
 },
 "nbformat": 4,
 "nbformat_minor": 2
}
