{
 "cells": [
  {
   "cell_type": "markdown",
   "metadata": {},
   "source": [
    "### PSE GYM- ASU "
   ]
  },
  {
   "cell_type": "code",
   "execution_count": 1,
   "metadata": {},
   "outputs": [],
   "source": [
    "# from product_management import Product_Management, doslfp_optimizier\n",
    "# main.py\n",
    "import matplotlib.pyplot as plt\n",
    "import pandas as pd\n",
    "import numpy as np\n",
    "from xgboost import XGBRegressor\n",
    "from statsmodels.tsa.seasonal import seasonal_decompose\n",
    "from sklearn.model_selection import train_test_split\n",
    "from sklearn.metrics import mean_squared_error\n",
    "from sklearn.metrics import r2_score\n",
    "from scipy.spatial import ConvexHull\n",
    "import random\n",
    "from pyomo.environ import ConcreteModel, Set, Param, Block\n",
    "import pyomo.environ as pyo\n",
    "import pyomo.opt as opt\n",
    "solver = pyo.SolverFactory('gurobi')\n",
    "import math\n",
    "from math import ceil\n",
    "import csv\n",
    "import json\n",
    "import time\n",
    "from math import sqrt\n",
    "import copy\n",
    "import ast"
   ]
  },
  {
   "cell_type": "markdown",
   "metadata": {},
   "source": [
    "### ASU Simulation"
   ]
  },
  {
   "cell_type": "code",
   "execution_count": null,
   "metadata": {},
   "outputs": [
    {
     "name": "stdout",
     "output_type": "stream",
     "text": [
      "Simulation complete for total of 3 days\n"
     ]
    }
   ],
   "source": [
    "from ASU_opt_model import optimize_ASU\n",
    "from ASU_env import ASUEnv\n",
    "days_to_simulate = 3\n",
    "\n",
    "start_day = 1\n",
    "lookahead = 4\n",
    "env_id = 'ASU1'\n",
    "# env = ASUEnv('ASU1', lookahead, days_to_simulate)\n",
    "env = ASUEnv('ASU1')\n",
    "asu_optimizer = optimize_ASU('ASU1', lookahead)\n",
    "\n",
    "env.reset()\n",
    "current_day = 1\n",
    "optimization_day1_cost = {}\n",
    "opt_lambda = {}\n",
    "opt_reward = {}\n",
    "\n",
    "done = False\n",
    "while not done:\n",
    "\n",
    "    state = env.render()\n",
    "    asu_optimizer.update_state(state)\n",
    "    \n",
    "    # Solve the optimization model\n",
    "    objective = asu_optimizer.solve()\n",
    "    day1_cost = asu_optimizer.day1_cost()\n",
    "    optimization_day1_cost[current_day] = day1_cost  \n",
    "    \n",
    "    opt_day_lambda = asu_optimizer.extract_optimal_lambda()\n",
    "    # fetch optimal hourly lambda values for the current day\n",
    "    opt_lambda[current_day] = opt_day_lambda\n",
    "    # based on opt_day_lambda, calculate the reward: opt_reward[current_day]\n",
    "    \n",
    "    day_reward = 0.0\n",
    "    for hour in range(1, 25):\n",
    "        # Retrieve the lambda values for this hour (assume keys in subdict are sorted correctly, e.g., 1, 2, ...).\n",
    "        hourly_lambda = opt_day_lambda[hour]\n",
    "        # Convert the lambda dict to a NumPy array. # For instance, if your extreme points indices are [1,2,...,n], sort the keys and build the array.\n",
    "        lambda_array = np.array([hourly_lambda[k] for k in sorted(hourly_lambda.keys())], dtype=np.float32)\n",
    "        opt_action = {'lambda': lambda_array}\n",
    "        \n",
    "        # Take a step in the environment using this optimal action.\n",
    "        state, reward, done, info = env.step(opt_action)\n",
    "        day_reward += reward\n",
    "\n",
    "    opt_reward[current_day] = day_reward\n",
    "\n",
    "    # Approaching end of current day\n",
    "    if done == True:\n",
    "        print(\"Simulation complete for total of {} days\".format(current_day))\n",
    "    current_day += 1"
   ]
  },
  {
   "cell_type": "code",
   "execution_count": 3,
   "metadata": {},
   "outputs": [
    {
     "name": "stdout",
     "output_type": "stream",
     "text": [
      "{1: 1044.5566829738332, 2: 861.3590746944308, 3: 805.6513215031631}\n",
      "{1: -1044.5571339701135, 2: -861.3590733169953, 3: -805.6513215031631}\n"
     ]
    }
   ],
   "source": [
    "print(optimization_day1_cost)\n",
    "print(opt_reward)"
   ]
  }
 ],
 "metadata": {
  "kernelspec": {
   "display_name": "base",
   "language": "python",
   "name": "python3"
  },
  "language_info": {
   "codemirror_mode": {
    "name": "ipython",
    "version": 3
   },
   "file_extension": ".py",
   "mimetype": "text/x-python",
   "name": "python",
   "nbconvert_exporter": "python",
   "pygments_lexer": "ipython3",
   "version": "3.11.7"
  }
 },
 "nbformat": 4,
 "nbformat_minor": 2
}
