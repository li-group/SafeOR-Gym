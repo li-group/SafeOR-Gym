{
 "cells": [
  {
   "cell_type": "code",
   "execution_count": 1,
   "metadata": {},
   "outputs": [],
   "source": [
    "import torch\n",
    "from GASU_env import GASU\n",
    "from GASU_optimizer import optimize_GASU"
   ]
  },
  {
   "cell_type": "code",
   "execution_count": 2,
   "metadata": {},
   "outputs": [],
   "source": [
    "# Episode Length: T\n",
    "T = 31\n",
    "state_horizon = 30\n",
    "action_horizon = 1\n",
    "simulation_days = T + state_horizon - action_horizon       # Total simulation days = 60\n",
    "\n",
    "env_id = 'GASU-v0'\n",
    "# env = GASU(env_id)\n",
    "\n",
    "env = GASU(env_id, config_path=\"gasu_config.json\")\n",
    "# Rendering essential information from environment\n",
    "compressors = env.compressor_info()       # Provides the infromation compressors and its initial state in dict format\n",
    "external_purchase_price = env.get_external_purchase_price()    # Provides the dict of external purchase price\n",
    "\n",
    "# initializing the optimizer by feeding the essential information from environment\n",
    "optimizer = optimize_GASU(state_horizon, action_horizon, compressors)\n",
    "optimizer._update_external_purchase_price(external_purchase_price)         # __Update the external purchase price in optimizer__"
   ]
  },
  {
   "cell_type": "markdown",
   "metadata": {},
   "source": [
    "### Simulation for 31 days (with optimal action)"
   ]
  },
  {
   "cell_type": "code",
   "execution_count": 19,
   "metadata": {},
   "outputs": [
    {
     "name": "stdout",
     "output_type": "stream",
     "text": [
      "Optimal Episode Reward: 1232.8234047772164\n",
      "Final Episode Reward: -1232.8234034398854\n",
      "Max External Purchase: 519\n"
     ]
    }
   ],
   "source": [
    "env.reset()\n",
    "flatt_state = env._get_state('flatt')  # mode = 'flatt'\n",
    "opt_episode_reward = 0\n",
    "simulation_episode_reward = 0\n",
    "# optimal_episode_cost = 0\n",
    "max_purchase =0\n",
    "\n",
    "terminated = torch.tensor(False)\n",
    "while terminated.item() is False:\n",
    "\n",
    "    optimizer.update_state(flatt_state)\n",
    "    objective_value = optimizer.solve()\n",
    "    opt_cost = optimizer.action_horizon_cost()\n",
    "    opt_action = optimizer._fetch_optimal_action_for_action_horizon()\n",
    "    max_ext_purchase = opt_action[-1]\n",
    "    if int(max_ext_purchase) > max_purchase:\n",
    "        max_purchase = int(max_ext_purchase)\n",
    "    # feed action to environment, # tensor output\n",
    "    flatt_state_tensor, reward, terminated, truncated, info = env.step(opt_action)\n",
    "    flatt_state = env._get_state('flatt')\n",
    "    opt_episode_reward += opt_cost\n",
    "    simulation_episode_reward += reward.item()\n",
    "    \n",
    "print(f\"Optimal Episode Reward: {opt_episode_reward}\")\n",
    "print(f\"Final Episode Reward: {simulation_episode_reward}\")\n",
    "print(f\"Max External Purchase: {max_purchase}\")"
   ]
  },
  {
   "cell_type": "code",
   "execution_count": null,
   "metadata": {},
   "outputs": [],
   "source": [
    "# update max_purchase by checking the maximum value in the max_ext_purchase array\n",
    "if max_ext_purchase.max() > max_purchase:\n",
    "    max_purchase = max_ext_purchase.max()"
   ]
  },
  {
   "cell_type": "code",
   "execution_count": 8,
   "metadata": {},
   "outputs": [
    {
     "data": {
      "text/plain": [
       "array([0.        , 0.        , 0.        , 0.77541333, 0.        ,\n",
       "       1.        , 0.        ], dtype=float32)"
      ]
     },
     "execution_count": 8,
     "metadata": {},
     "output_type": "execute_result"
    }
   ],
   "source": [
    "opt_action"
   ]
  },
  {
   "cell_type": "code",
   "execution_count": 15,
   "metadata": {},
   "outputs": [
    {
     "data": {
      "text/plain": [
       "numpy.float32"
      ]
     },
     "execution_count": 15,
     "metadata": {},
     "output_type": "execute_result"
    }
   ],
   "source": [
    "type(opt_action[-1])\n"
   ]
  },
  {
   "cell_type": "code",
   "execution_count": 17,
   "metadata": {},
   "outputs": [
    {
     "data": {
      "text/plain": [
       "0"
      ]
     },
     "execution_count": 17,
     "metadata": {},
     "output_type": "execute_result"
    }
   ],
   "source": [
    "int(opt_action[-1])"
   ]
  },
  {
   "cell_type": "code",
   "execution_count": null,
   "metadata": {},
   "outputs": [],
   "source": []
  }
 ],
 "metadata": {
  "kernelspec": {
   "display_name": "base",
   "language": "python",
   "name": "python3"
  },
  "language_info": {
   "codemirror_mode": {
    "name": "ipython",
    "version": 3
   },
   "file_extension": ".py",
   "mimetype": "text/x-python",
   "name": "python",
   "nbconvert_exporter": "python",
   "pygments_lexer": "ipython3",
   "version": "3.11.7"
  }
 },
 "nbformat": 4,
 "nbformat_minor": 2
}
