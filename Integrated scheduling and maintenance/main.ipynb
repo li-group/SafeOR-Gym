{
 "cells": [
  {
   "cell_type": "code",
   "execution_count": 1,
   "metadata": {},
   "outputs": [],
   "source": [
    "from GASU_env import GASU\n",
    "from GASU_optimizer import optimize_GASU"
   ]
  },
  {
   "cell_type": "code",
   "execution_count": null,
   "metadata": {},
   "outputs": [],
   "source": [
    "# Episode Length: T\n",
    "T = 31\n",
    "state_horizon = 30\n",
    "action_horizon = 1\n",
    "simulation_days = T + state_horizon - action_horizon       # Total simulation days = 60\n",
    "\"\"\"\n",
    "at the start of each day (1-31): \n",
    "    - 30 days of demand data\n",
    "    - 30 days of price data\n",
    "\n",
    "at the start of 31st day: we have data of 31st day itself and 29 coming days (total 30 days, making simulation days = 60)\n",
    "\n",
    "i.e., episode length (T) = 31 days (1-31)\n",
    "\"\"\"\n",
    "env = GASU(T, state_horizon, action_horizon)\n",
    "# Rendering essential information from environment\n",
    "compressors = env.compressor_info()       # Provides the infromation compressors and its initial state in dict format\n",
    "external_purchase_price = env.get_external_purchase_price()    # Provides the dict of external purchase price\n",
    "\n",
    "# initializing the optimizer by feeding the essential information from environment\n",
    "optimizer = optimize_GASU(state_horizon, action_horizon, compressors)\n",
    "optimizer._update_external_purchase_price(external_purchase_price)         # __Update the external purchase price in optimizer__"
   ]
  },
  {
   "cell_type": "markdown",
   "metadata": {},
   "source": [
    "### Simulation for 31 days (with optimal action)"
   ]
  },
  {
   "cell_type": "code",
   "execution_count": 3,
   "metadata": {},
   "outputs": [
    {
     "name": "stdout",
     "output_type": "stream",
     "text": [
      "Optimal Episode Reward: 955866.6748966866\n",
      "Final Episode Reward: -955883.0184969649\n"
     ]
    }
   ],
   "source": [
    "env.reset()\n",
    "opt_episode_reward = 0\n",
    "simulation_episode_reward = 0\n",
    "optimal_episode_cost = 0\n",
    "state = env.render()\n",
    "done = False\n",
    "while done is False:\n",
    "    optimizer.update_state(state)\n",
    "    objective_value = optimizer.solve()\n",
    "    opt_cost = optimizer.action_horizon_cost()\n",
    "    opt_action = optimizer._fetch_optimal_action_for_action_horizon()\n",
    "    # feed action to environment\n",
    "    state, reward, done, truncated, info = env.step(opt_action)\n",
    "    opt_episode_reward += opt_cost\n",
    "    \n",
    "print(f\"Optimal Episode Reward: {opt_episode_reward}\")\n",
    "print(f\"Final Episode Reward: {reward}\")"
   ]
  }
 ],
 "metadata": {
  "kernelspec": {
   "display_name": "base",
   "language": "python",
   "name": "python3"
  },
  "language_info": {
   "codemirror_mode": {
    "name": "ipython",
    "version": 3
   },
   "file_extension": ".py",
   "mimetype": "text/x-python",
   "name": "python",
   "nbconvert_exporter": "python",
   "pygments_lexer": "ipython3",
   "version": "3.11.7"
  }
 },
 "nbformat": 4,
 "nbformat_minor": 2
}
