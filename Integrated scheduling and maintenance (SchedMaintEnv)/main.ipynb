{
 "cells": [
  {
   "cell_type": "code",
   "execution_count": 1,
   "metadata": {},
   "outputs": [],
   "source": [
    "import torch\n",
    "from GASU_env_host import GASU\n",
    "from GASU_optimizer import optimize_GASU"
   ]
  },
  {
   "cell_type": "code",
   "execution_count": null,
   "metadata": {},
   "outputs": [],
   "source": [
    "# Episode Length: T\n",
    "T = 31\n",
    "state_horizon = 30\n",
    "action_horizon = 1\n",
    "simulation_days = T + state_horizon - action_horizon       # Total simulation days = 60\n",
    "env_id = 'GASU-v0'\n",
    "env = GASU(env_id, config_path=\"gasu_config.json\")\n",
    "\n",
    "# Preprocessing\n",
    "# Step 1: Rendering essential information from environment\n",
    "compressors = env.compressor_info()       # Provides the infromation compressors and its initial state in dict format\n",
    "external_purchase_price = env.get_external_purchase_price()    # Provides the dict of external purchase price\n",
    "external_purchase_capacity = env.get_external_purchase_capacity()    # Provides the dict of external purchase capacity\n",
    "\n",
    "# Step 1: Initializing the optimizer by feeding the essential information from environment\n",
    "optimizer = optimize_GASU(state_horizon, action_horizon, compressors)\n",
    "optimizer._update_external_purchase_price(external_purchase_price)         # __Update the external purchase price in optimizer__\n",
    "optimizer._update_external_purchase_capacity(external_purchase_capacity)   # __Update the external purchase capacity in optimizer__"
   ]
  },
  {
   "cell_type": "markdown",
   "metadata": {},
   "source": [
    "### Simulation for 31 days (with optimal action)"
   ]
  },
  {
   "cell_type": "code",
   "execution_count": 4,
   "metadata": {},
   "outputs": [
    {
     "name": "stdout",
     "output_type": "stream",
     "text": [
      "Optimal Episode Reward: 1221.8517861219732\n",
      "Final Episode Reward: -1221.3104362487793\n"
     ]
    }
   ],
   "source": [
    "env.reset()\n",
    "flatt_state = env._get_state('flatt')  # mode = 'flatt'\n",
    "opt_episode_reward = 0\n",
    "simulation_episode_reward = 0\n",
    "terminated = torch.tensor(False)\n",
    "\n",
    "while terminated.item() is False:\n",
    "\n",
    "    optimizer.update_state(flatt_state)\n",
    "    objective_value = optimizer.solve()\n",
    "    opt_cost = optimizer.action_horizon_cost()\n",
    "    opt_action = optimizer._fetch_optimal_action_for_action_horizon()\n",
    "    # feed action to environment, # tensor output\n",
    "    flatt_state_tensor, reward, terminated, truncated, info = env.step(opt_action)\n",
    "    flatt_state = env._get_state('flatt')\n",
    "    opt_episode_reward += opt_cost\n",
    "    simulation_episode_reward += reward.item()\n",
    "    \n",
    "print(f\"Optimal Episode Reward: {opt_episode_reward}\")\n",
    "print(f\"Final Episode Reward: {simulation_episode_reward}\")"
   ]
  }
 ],
 "metadata": {
  "kernelspec": {
   "display_name": "base",
   "language": "python",
   "name": "python3"
  },
  "language_info": {
   "codemirror_mode": {
    "name": "ipython",
    "version": 3
   },
   "file_extension": ".py",
   "mimetype": "text/x-python",
   "name": "python",
   "nbconvert_exporter": "python",
   "pygments_lexer": "ipython3",
   "version": "3.11.7"
  }
 },
 "nbformat": 4,
 "nbformat_minor": 2
}
