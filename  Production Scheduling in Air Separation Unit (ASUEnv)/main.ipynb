{
 "cells": [
  {
   "cell_type": "code",
   "execution_count": 1,
   "id": "311368a5",
   "metadata": {},
   "outputs": [],
   "source": [
    "from ASU_env import ASUEnv\n",
    "from ASU_opt_model import optimize_ASU\n",
    "from copy import deepcopy\n",
    "from pathlib import Path\n",
    "import numpy as np"
   ]
  },
  {
   "cell_type": "code",
   "execution_count": null,
   "id": "27be6cbe",
   "metadata": {},
   "outputs": [
    {
     "name": "stdout",
     "output_type": "stream",
     "text": [
      "number of actions taken: 168\n",
      "Simulation complete for total of 7 days\n",
      "{1: 1044.5566829738332, 2: 861.3592639213889, 3: 805.6513215031631, 4: 1007.3574626449497, 5: 887.7661076585582, 6: 927.1291526642696, 7: 1063.684094797056}\n",
      "{1: -1044.55668258667, 2: -861.3592681884766, 3: -805.6513214111328, 4: -1007.3574638366699, 5: -887.7660980224609, 6: -927.2235565185547, 7: -1063.684097290039}\n",
      "Total optimal episode cost: 6597.504086163219\n"
     ]
    }
   ],
   "source": [
    "# base_dir   = Path(__file__).resolve().parent\n",
    "base_dir = Path().resolve()\n",
    "config_fp  = base_dir / \"asuenv_config.json\"\n",
    "if not config_fp.is_file():\n",
    "    raise FileNotFoundError(f\"Couldn’t find config.json at {config_fp}\")\n",
    "opt_config_fp = base_dir / \"asuopt_config.json\"\n",
    "if not opt_config_fp.is_file():\n",
    "    raise FileNotFoundError(f\"Couldn’t find config.json at {opt_config_fp}\")\n",
    "\n",
    "env_id = 'ASU1'\n",
    "env = ASUEnv(env_id, config_path=config_fp)\n",
    "\n",
    "env_lookahead = env._get_lookahead_days()\n",
    "asu_optimizer = optimize_ASU(env_id, lookahead=env_lookahead, config_path=opt_config_fp)\n",
    "\n",
    "env.reset()\n",
    "current_day = 1\n",
    "optimization_day1_cost = {}\n",
    "opt_lambda = {}\n",
    "opt_reward = {}\n",
    "num_action = 0\n",
    "\n",
    "terminated = False\n",
    "while not terminated:\n",
    "\n",
    "    # state = env.render()\n",
    "    state = env._get_state(mode='dict')\n",
    "    asu_optimizer.update_state(state)\n",
    "    \n",
    "    # Solve the optimization model\n",
    "    objective = asu_optimizer.solve()\n",
    "    day1_cost = asu_optimizer.day1_cost()\n",
    "    optimization_day1_cost[current_day] = day1_cost  \n",
    "    \n",
    "    opt_day_lambda = asu_optimizer.extract_optimal_lambda()\n",
    "    # fetch optimal hourly lambda values for the current day\n",
    "    opt_lambda[current_day] = opt_day_lambda\n",
    "    # based on opt_day_lambda, calculate the reward: opt_reward[current_day]\n",
    "    \n",
    "    day_reward = 0.0\n",
    "    for hour in range(1, 25):\n",
    "        # Retrieve the lambda values for this hour (assume keys in subdict are sorted correctly, e.g., 1, 2, ...).\n",
    "        hourly_lambda = opt_day_lambda[hour]\n",
    "        # Convert the lambda dict to a NumPy array. # For instance, if your extreme points indices are [1,2,...,n], sort the keys and build the array.\n",
    "        lambda_array = np.array([hourly_lambda[k] for k in sorted(hourly_lambda.keys())], dtype=np.float32)\n",
    "        # opt_action = {'lambda': lambda_array}\n",
    "        opt_action = lambda_array\n",
    "        \n",
    "        # Take a step in the environment using this optimal action.\n",
    "        _, reward, terminated, _ , _ = env.step(opt_action)\n",
    "        num_action += 1\n",
    "        terminated = terminated.item()\n",
    "        day_reward += reward.item()\n",
    "\n",
    "    opt_reward[current_day] = day_reward\n",
    "\n",
    "    # Approaching end of current day\n",
    "    if terminated == True:\n",
    "        print(\"number of actions taken: {}\".format(num_action))\n",
    "        print(\"Simulation complete for total of {} days\".format(current_day))\n",
    "    current_day += 1\n",
    "print(optimization_day1_cost)\n",
    "print(opt_reward)\n",
    "print(\"Total optimal episode cost: {}\".format(sum(optimization_day1_cost.values())))"
   ]
  }
 ],
 "metadata": {
  "kernelspec": {
   "display_name": "base",
   "language": "python",
   "name": "python3"
  },
  "language_info": {
   "codemirror_mode": {
    "name": "ipython",
    "version": 3
   },
   "file_extension": ".py",
   "mimetype": "text/x-python",
   "name": "python",
   "nbconvert_exporter": "python",
   "pygments_lexer": "ipython3",
   "version": "3.11.7"
  }
 },
 "nbformat": 4,
 "nbformat_minor": 5
}
